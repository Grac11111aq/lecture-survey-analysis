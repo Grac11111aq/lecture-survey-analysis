{
 "cells": [
  {
   "cell_type": "markdown",
   "metadata": {},
   "source": [
    "# 小学校出前授業アンケート分析\n",
    "\n",
    "このノートブックでは、社会実装の出前授業で収集したアンケートデータの分析を行います。"
   ]
  },
  {
   "cell_type": "code",
   "execution_count": null,
   "metadata": {},
   "outputs": [],
   "source": [
    "# 必要なライブラリのインポート\n",
    "import pandas as pd\n",
    "import numpy as np\n",
    "import matplotlib.pyplot as plt\n",
    "import seaborn as sns\n",
    "import plotly.express as px\n",
    "import plotly.graph_objects as go\n",
    "from wordcloud import WordCloud\n",
    "import japanize_matplotlib\n",
    "import nltk\n",
    "from sklearn.preprocessing import LabelEncoder\n",
    "from sklearn.feature_extraction.text import CountVectorizer, TfidfVectorizer\n",
    "import warnings\n",
    "warnings.filterwarnings('ignore')\n",
    "\n",
    "# グラフの日本語表示設定\n",
    "plt.rcParams['font.sans-serif'] = ['IPAexGothic']\n",
    "plt.rcParams['axes.unicode_minus'] = False\n",
    "\n",
    "# Seabornのスタイル設定\n",
    "sns.set_style('whitegrid')\n",
    "sns.set_palette('Set2')"
   ]
  },
  {
   "cell_type": "markdown",
   "metadata": {},
   "source": [
    "## 1. データの読み込み"
   ]
  },
  {
   "cell_type": "code",
   "execution_count": null,
   "metadata": {},
   "outputs": [],
   "source": [
    "# CSVファイルの読み込み（ファイルパスを適宜変更してください）\n",
    "# df = pd.read_csv('survey_data.csv', encoding='utf-8')\n",
    "\n",
    "# サンプルデータの作成（実際のデータがない場合のテスト用）\n",
    "sample_data = {\n",
    "    '学年': ['3年', '3年', '4年', '4年', '5年', '5年', '6年', '6年'] * 10,\n",
    "    '性別': ['男', '女', '男', '女', '男', '女', '男', '女'] * 10,\n",
    "    '授業の面白さ': np.random.choice(['とても面白かった', '面白かった', '普通', 'あまり面白くなかった'], 80),\n",
    "    '理解度': np.random.choice(['よく理解できた', '理解できた', '少し理解できた', '理解できなかった'], 80),\n",
    "    '興味の変化': np.random.choice(['とても興味を持った', '興味を持った', '変わらない', '興味が減った'], 80),\n",
    "    '感想': [\n",
    "        'プログラミングが楽しかった',\n",
    "        'ロボットが動くのがすごかった',\n",
    "        '難しかったけど面白かった',\n",
    "        'もっとやりたい',\n",
    "        'コンピュータの仕組みがわかった'\n",
    "    ] * 16\n",
    "}\n",
    "\n",
    "df = pd.DataFrame(sample_data)\n",
    "print(f\"データ件数: {len(df)}件\")\n",
    "df.head()"
   ]
  },
  {
   "cell_type": "markdown",
   "metadata": {},
   "source": [
    "## 2. 基本統計情報"
   ]
  },
  {
   "cell_type": "code",
   "execution_count": null,
   "metadata": {},
   "outputs": [],
   "source": [
    "# 基本情報の確認\n",
    "print(\"=== データ型の確認 ===\")\n",
    "print(df.dtypes)\n",
    "print(\"\\n=== 欠損値の確認 ===\")\n",
    "print(df.isnull().sum())\n",
    "print(\"\\n=== 各カテゴリの分布 ===\")\n",
    "for col in df.select_dtypes(include='object').columns:\n",
    "    print(f\"\\n{col}:\")\n",
    "    print(df[col].value_counts())"
   ]
  },
  {
   "cell_type": "markdown",
   "metadata": {},
   "source": [
    "## 3. 可視化分析"
   ]
  },
  {
   "cell_type": "markdown",
   "metadata": {},
   "source": [
    "### 3.1 学年・性別分布"
   ]
  },
  {
   "cell_type": "code",
   "execution_count": null,
   "metadata": {},
   "outputs": [],
   "source": [
    "# 学年別・性別の分布\n",
    "fig, (ax1, ax2) = plt.subplots(1, 2, figsize=(12, 5))\n",
    "\n",
    "# 学年分布\n",
    "df['学年'].value_counts().sort_index().plot(kind='bar', ax=ax1)\n",
    "ax1.set_title('学年別回答者数', fontsize=14)\n",
    "ax1.set_xlabel('学年')\n",
    "ax1.set_ylabel('人数')\n",
    "\n",
    "# 性別分布\n",
    "df['性別'].value_counts().plot(kind='pie', autopct='%1.1f%%', ax=ax2)\n",
    "ax2.set_title('性別分布', fontsize=14)\n",
    "ax2.set_ylabel('')\n",
    "\n",
    "plt.tight_layout()\n",
    "plt.show()"
   ]
  },
  {
   "cell_type": "markdown",
   "metadata": {},
   "source": [
    "### 3.2 授業評価の分析"
   ]
  },
  {
   "cell_type": "code",
   "execution_count": null,
   "metadata": {},
   "outputs": [],
   "source": [
    "# 授業評価の可視化\n",
    "fig, axes = plt.subplots(2, 2, figsize=(15, 12))\n",
    "\n",
    "# 授業の面白さ\n",
    "df['授業の面白さ'].value_counts().plot(kind='bar', ax=axes[0,0], color='skyblue')\n",
    "axes[0,0].set_title('授業の面白さ評価', fontsize=14)\n",
    "axes[0,0].set_xlabel('評価')\n",
    "axes[0,0].set_ylabel('人数')\n",
    "\n",
    "# 理解度\n",
    "df['理解度'].value_counts().plot(kind='bar', ax=axes[0,1], color='lightgreen')\n",
    "axes[0,1].set_title('理解度評価', fontsize=14)\n",
    "axes[0,1].set_xlabel('評価')\n",
    "axes[0,1].set_ylabel('人数')\n",
    "\n",
    "# 興味の変化\n",
    "df['興味の変化'].value_counts().plot(kind='bar', ax=axes[1,0], color='coral')\n",
    "axes[1,0].set_title('興味の変化', fontsize=14)\n",
    "axes[1,0].set_xlabel('評価')\n",
    "axes[1,0].set_ylabel('人数')\n",
    "\n",
    "# 学年別の授業評価\n",
    "cross_tab = pd.crosstab(df['学年'], df['授業の面白さ'])\n",
    "cross_tab.plot(kind='bar', ax=axes[1,1], stacked=True)\n",
    "axes[1,1].set_title('学年別授業評価', fontsize=14)\n",
    "axes[1,1].set_xlabel('学年')\n",
    "axes[1,1].set_ylabel('人数')\n",
    "axes[1,1].legend(title='授業の面白さ', bbox_to_anchor=(1.05, 1), loc='upper left')\n",
    "\n",
    "plt.tight_layout()\n",
    "plt.show()"
   ]
  },
  {
   "cell_type": "markdown",
   "metadata": {},
   "source": [
    "### 3.3 インタラクティブな可視化（Plotly）"
   ]
  },
  {
   "cell_type": "code",
   "execution_count": null,
   "metadata": {},
   "outputs": [],
   "source": [
    "# サンキーダイアグラムで関係性を可視化\n",
    "# 学年 -> 授業の面白さ -> 興味の変化 の流れを表示\n",
    "\n",
    "# データの準備\n",
    "sankey_data = df.groupby(['学年', '授業の面白さ', '興味の変化']).size().reset_index(name='count')\n",
    "\n",
    "# ノードの作成\n",
    "all_nodes = list(df['学年'].unique()) + list(df['授業の面白さ'].unique()) + list(df['興味の変化'].unique())\n",
    "node_dict = {node: i for i, node in enumerate(all_nodes)}\n",
    "\n",
    "# リンクの作成\n",
    "source = []\n",
    "target = []\n",
    "value = []\n",
    "\n",
    "for _, row in sankey_data.iterrows():\n",
    "    source.append(node_dict[row['学年']])\n",
    "    target.append(node_dict[row['授業の面白さ']])\n",
    "    value.append(row['count'])\n",
    "    \n",
    "    source.append(node_dict[row['授業の面白さ']])\n",
    "    target.append(node_dict[row['興味の変化']])\n",
    "    value.append(row['count'])\n",
    "\n",
    "# サンキーダイアグラムの作成\n",
    "fig = go.Figure(data=[go.Sankey(\n",
    "    node=dict(\n",
    "        pad=15,\n",
    "        thickness=20,\n",
    "        line=dict(color=\"black\", width=0.5),\n",
    "        label=all_nodes\n",
    "    ),\n",
    "    link=dict(\n",
    "        source=source,\n",
    "        target=target,\n",
    "        value=value\n",
    "    )\n",
    ")])\n",
    "\n",
    "fig.update_layout(title_text=\"学年・授業評価・興味の変化の関係\", font_size=10)\n",
    "fig.show()"
   ]
  },
  {
   "cell_type": "markdown",
   "metadata": {},
   "source": [
    "## 4. テキスト分析（感想）"
   ]
  },
  {
   "cell_type": "code",
   "execution_count": null,
   "metadata": {},
   "outputs": [],
   "source": [
    "# 感想のワードクラウド作成\n",
    "text = ' '.join(df['感想'].dropna())\n",
    "\n",
    "# 日本語フォントの設定\n",
    "font_path = '/usr/share/fonts/opentype/noto/NotoSansCJK-Regular.ttc'\n",
    "\n",
    "# ワードクラウドの生成\n",
    "try:\n",
    "    wordcloud = WordCloud(\n",
    "        width=800, \n",
    "        height=400,\n",
    "        background_color='white',\n",
    "        font_path=font_path,\n",
    "        max_words=100,\n",
    "        relative_scaling=0.5,\n",
    "        min_font_size=10\n",
    "    ).generate(text)\n",
    "    \n",
    "    plt.figure(figsize=(15, 8))\n",
    "    plt.imshow(wordcloud, interpolation='bilinear')\n",
    "    plt.axis('off')\n",
    "    plt.title('感想のワードクラウド', fontsize=16)\n",
    "    plt.show()\n",
    "except:\n",
    "    print(\"ワードクラウドの生成に失敗しました。フォントパスを確認してください。\")\n",
    "    \n",
    "# 頻出単語の抽出\n",
    "print(\"\\n=== 感想に含まれる頻出フレーズ ===\")\n",
    "from collections import Counter\n",
    "words = text.split()\n",
    "word_counts = Counter(words)\n",
    "for word, count in word_counts.most_common(10):\n",
    "    print(f\"{word}: {count}回\")"
   ]
  },
  {
   "cell_type": "markdown",
   "metadata": {},
   "source": [
    "## 5. 詳細分析"
   ]
  },
  {
   "cell_type": "code",
   "execution_count": null,
   "metadata": {},
   "outputs": [],
   "source": [
    "# ヒートマップで相関を確認\n",
    "# カテゴリカルデータを数値に変換\n",
    "le = LabelEncoder()\n",
    "df_encoded = df.copy()\n",
    "for col in ['学年', '性別', '授業の面白さ', '理解度', '興味の変化']:\n",
    "    df_encoded[col + '_encoded'] = le.fit_transform(df[col])\n",
    "\n",
    "# 相関行列の計算\n",
    "corr_cols = [col for col in df_encoded.columns if '_encoded' in col]\n",
    "corr_matrix = df_encoded[corr_cols].corr()\n",
    "\n",
    "# ヒートマップの描画\n",
    "plt.figure(figsize=(10, 8))\n",
    "sns.heatmap(corr_matrix, annot=True, cmap='coolwarm', center=0,\n",
    "            xticklabels=[col.replace('_encoded', '') for col in corr_cols],\n",
    "            yticklabels=[col.replace('_encoded', '') for col in corr_cols])\n",
    "plt.title('各項目間の相関関係', fontsize=14)\n",
    "plt.show()"
   ]
  },
  {
   "cell_type": "markdown",
   "metadata": {},
   "source": [
    "## 6. レポート用集計"
   ]
  },
  {
   "cell_type": "code",
   "execution_count": null,
   "metadata": {},
   "outputs": [],
   "source": [
    "# サマリーレポートの作成\n",
    "print(\"=== アンケート分析サマリー ===\")\n",
    "print(f\"\\n総回答数: {len(df)}件\")\n",
    "print(f\"\\n【学年別内訳】\")\n",
    "for grade, count in df['学年'].value_counts().sort_index().items():\n",
    "    print(f\"{grade}: {count}名 ({count/len(df)*100:.1f}%)\")\n",
    "\n",
    "print(f\"\\n【授業評価】\")\n",
    "positive_rate = len(df[df['授業の面白さ'].isin(['とても面白かった', '面白かった'])]) / len(df) * 100\n",
    "print(f\"肯定的評価（面白かった以上）: {positive_rate:.1f}%\")\n",
    "\n",
    "understanding_rate = len(df[df['理解度'].isin(['よく理解できた', '理解できた'])]) / len(df) * 100\n",
    "print(f\"理解度（理解できた以上）: {understanding_rate:.1f}%\")\n",
    "\n",
    "interest_rate = len(df[df['興味の変化'].isin(['とても興味を持った', '興味を持った'])]) / len(df) * 100\n",
    "print(f\"興味の向上（興味を持った以上）: {interest_rate:.1f}%\")\n",
    "\n",
    "# 結果をCSVで保存\n",
    "summary_df = pd.DataFrame({\n",
    "    '項目': ['肯定的評価率', '理解度', '興味の向上率'],\n",
    "    'パーセンテージ': [positive_rate, understanding_rate, interest_rate]\n",
    "})\n",
    "summary_df.to_csv('survey_summary.csv', index=False, encoding='utf-8-sig')\n",
    "print(\"\\nサマリーをsurvey_summary.csvに保存しました。\")"
   ]
  },
  {
   "cell_type": "markdown",
   "metadata": {},
   "source": [
    "## 7. データエクスポート機能"
   ]
  },
  {
   "cell_type": "code",
   "execution_count": null,
   "metadata": {},
   "outputs": [],
   "source": [
    "# 分析結果のエクスポート\n",
    "# 学年別集計\n",
    "grade_summary = df.groupby('学年').agg({\n",
    "    '性別': 'count',\n",
    "    '授業の面白さ': lambda x: (x.isin(['とても面白かった', '面白かった'])).sum()\n",
    "}).rename(columns={'性別': '回答者数', '授業の面白さ': '肯定的評価数'})\n",
    "grade_summary['肯定的評価率'] = grade_summary['肯定的評価数'] / grade_summary['回答者数'] * 100\n",
    "\n",
    "print(\"=== 学年別集計結果 ===\")\n",
    "print(grade_summary)\n",
    "\n",
    "# Excelファイルとして保存（複数シート）\n",
    "with pd.ExcelWriter('survey_analysis_results.xlsx', engine='openpyxl') as writer:\n",
    "    df.to_excel(writer, sheet_name='生データ', index=False)\n",
    "    grade_summary.to_excel(writer, sheet_name='学年別集計')\n",
    "    summary_df.to_excel(writer, sheet_name='全体サマリー', index=False)\n",
    "\n",
    "print(\"\\n分析結果をsurvey_analysis_results.xlsxに保存しました。\")"
   ]
  }
 ],
 "metadata": {
  "kernelspec": {
   "display_name": "Python 3",
   "language": "python",
   "name": "python3"
  },
  "language_info": {
   "codemirror_mode": {
    "name": "ipython",
    "version": 3
   },
   "file_extension": ".py",
   "mimetype": "text/x-python",
   "name": "python",
   "nbconvert_exporter": "python",
   "pygments_lexer": "ipython3",
   "version": "3.11.0"
  }
 },
 "nbformat": 4,
 "nbformat_minor": 4
}